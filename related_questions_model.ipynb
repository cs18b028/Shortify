{
 "cells": [
  {
   "cell_type": "markdown",
   "id": "successful-agriculture",
   "metadata": {},
   "source": [
    "## Load data for training word embeddings\n",
    "<hr>"
   ]
  },
  {
   "cell_type": "code",
   "execution_count": 1,
   "id": "understanding-backing",
   "metadata": {},
   "outputs": [],
   "source": [
    "import os\n",
    "import pandas as pd\n",
    "import numpy as np"
   ]
  },
  {
   "cell_type": "code",
   "execution_count": 2,
   "id": "short-elevation",
   "metadata": {
    "scrolled": true
   },
   "outputs": [
    {
     "name": "stdout",
     "output_type": "stream",
     "text": [
      "(58887, 7)\n"
     ]
    },
    {
     "data": {
      "text/html": [
       "<div>\n",
       "<style scoped>\n",
       "    .dataframe tbody tr th:only-of-type {\n",
       "        vertical-align: middle;\n",
       "    }\n",
       "\n",
       "    .dataframe tbody tr th {\n",
       "        vertical-align: top;\n",
       "    }\n",
       "\n",
       "    .dataframe thead th {\n",
       "        text-align: right;\n",
       "    }\n",
       "</style>\n",
       "<table border=\"1\" class=\"dataframe\">\n",
       "  <thead>\n",
       "    <tr style=\"text-align: right;\">\n",
       "      <th></th>\n",
       "      <th>id</th>\n",
       "      <th>title</th>\n",
       "      <th>corpus</th>\n",
       "      <th>score</th>\n",
       "      <th>polarity</th>\n",
       "      <th>subjectivity</th>\n",
       "      <th>processed_title</th>\n",
       "    </tr>\n",
       "  </thead>\n",
       "  <tbody>\n",
       "    <tr>\n",
       "      <th>0</th>\n",
       "      <td>21454</td>\n",
       "      <td>Specifying a mySQL ENUM in a Django model</td>\n",
       "      <td>specifying mysql enum django model go specifyi...</td>\n",
       "      <td>0.044573</td>\n",
       "      <td>0.0</td>\n",
       "      <td>0.00</td>\n",
       "      <td>specifying mysql enum django model</td>\n",
       "    </tr>\n",
       "    <tr>\n",
       "      <th>1</th>\n",
       "      <td>22059</td>\n",
       "      <td>How do content discovery engines, like Zemanta...</td>\n",
       "      <td>content discovery engines like zemanta open ca...</td>\n",
       "      <td>0.002254</td>\n",
       "      <td>0.0</td>\n",
       "      <td>0.00</td>\n",
       "      <td>content discovery engines like zemanta open ca...</td>\n",
       "    </tr>\n",
       "    <tr>\n",
       "      <th>2</th>\n",
       "      <td>29856</td>\n",
       "      <td>Install Python to match directory layout in OS...</td>\n",
       "      <td>install python match directory layout os x 105...</td>\n",
       "      <td>-0.000657</td>\n",
       "      <td>0.0</td>\n",
       "      <td>0.00</td>\n",
       "      <td>install python match directory layout os x 105</td>\n",
       "    </tr>\n",
       "    <tr>\n",
       "      <th>3</th>\n",
       "      <td>35569</td>\n",
       "      <td>Why does Python's iter() on a mapping return i...</td>\n",
       "      <td>python iter mapping return iterkeys instead it...</td>\n",
       "      <td>0.001134</td>\n",
       "      <td>-0.2</td>\n",
       "      <td>0.85</td>\n",
       "      <td>python iter mapping return iterkeys instead it...</td>\n",
       "    </tr>\n",
       "    <tr>\n",
       "      <th>4</th>\n",
       "      <td>39960</td>\n",
       "      <td>Javascript equivalent of Python's locals()?</td>\n",
       "      <td>javascript equivalent python locals python one...</td>\n",
       "      <td>0.003821</td>\n",
       "      <td>0.0</td>\n",
       "      <td>0.00</td>\n",
       "      <td>javascript equivalent python locals</td>\n",
       "    </tr>\n",
       "  </tbody>\n",
       "</table>\n",
       "</div>"
      ],
      "text/plain": [
       "      id                                              title  \\\n",
       "0  21454          Specifying a mySQL ENUM in a Django model   \n",
       "1  22059  How do content discovery engines, like Zemanta...   \n",
       "2  29856  Install Python to match directory layout in OS...   \n",
       "3  35569  Why does Python's iter() on a mapping return i...   \n",
       "4  39960        Javascript equivalent of Python's locals()?   \n",
       "\n",
       "                                              corpus     score  polarity  \\\n",
       "0  specifying mysql enum django model go specifyi...  0.044573       0.0   \n",
       "1  content discovery engines like zemanta open ca...  0.002254       0.0   \n",
       "2  install python match directory layout os x 105... -0.000657       0.0   \n",
       "3  python iter mapping return iterkeys instead it...  0.001134      -0.2   \n",
       "4  javascript equivalent python locals python one...  0.003821       0.0   \n",
       "\n",
       "   subjectivity                                    processed_title  \n",
       "0          0.00                 specifying mysql enum django model  \n",
       "1          0.00  content discovery engines like zemanta open ca...  \n",
       "2          0.00     install python match directory layout os x 105  \n",
       "3          0.85  python iter mapping return iterkeys instead it...  \n",
       "4          0.00                javascript equivalent python locals  "
      ]
     },
     "execution_count": 2,
     "metadata": {},
     "output_type": "execute_result"
    }
   ],
   "source": [
    "# read data\n",
    "\n",
    "data = pd.read_csv('data/processed_data_model1.csv')\n",
    "print(data.shape)\n",
    "data.head()"
   ]
  },
  {
   "cell_type": "markdown",
   "id": "variable-lincoln",
   "metadata": {},
   "source": [
    "## Training word embeddings\n",
    "<hr>"
   ]
  },
  {
   "cell_type": "code",
   "execution_count": 3,
   "id": "labeled-pulse",
   "metadata": {},
   "outputs": [],
   "source": [
    "import multiprocessing\n",
    "from gensim.models import Word2Vec"
   ]
  },
  {
   "cell_type": "code",
   "execution_count": 4,
   "id": "needed-consultancy",
   "metadata": {},
   "outputs": [
    {
     "name": "stdout",
     "output_type": "stream",
     "text": [
      "8\n"
     ]
    }
   ],
   "source": [
    "cores = multiprocessing.cpu_count()\n",
    "print(cores)"
   ]
  },
  {
   "cell_type": "code",
   "execution_count": 5,
   "id": "endangered-recall",
   "metadata": {},
   "outputs": [],
   "source": [
    "import gensim\n",
    "\n",
    "w2v_model = Word2Vec(min_count=2,\n",
    "                                         window=2,\n",
    "                                         size=300,\n",
    "                                         sample=0, \n",
    "                                         alpha=0.03, \n",
    "                                         min_alpha=0.0007, \n",
    "                                         negative=10,\n",
    "                                         workers=cores-1)\n",
    "\n",
    "corpus = [text.split() for text in np.array(data.corpus)]"
   ]
  },
  {
   "cell_type": "code",
   "execution_count": 6,
   "id": "matched-integrity",
   "metadata": {},
   "outputs": [
    {
     "name": "stdout",
     "output_type": "stream",
     "text": [
      "vocab size 74743\n"
     ]
    },
    {
     "data": {
      "text/plain": [
       "(81551392, 87125344)"
      ]
     },
     "execution_count": 6,
     "metadata": {},
     "output_type": "execute_result"
    }
   ],
   "source": [
    "#train word embeddings\n",
    "\n",
    "w2v_model.build_vocab(corpus) #build the vocabulary\n",
    "words = w2v_model.wv.vocab.keys()\n",
    "vocab_size = len(words)\n",
    "print(\"vocab size\",vocab_size)\n",
    "w2v_model.train(corpus, total_examples=len(corpus), epochs=32) #training step"
   ]
  },
  {
   "cell_type": "code",
   "execution_count": 7,
   "id": "lined-destiny",
   "metadata": {},
   "outputs": [],
   "source": [
    "w2v_model.save('models/related_questions_model.bin') #saving the trained w2v model"
   ]
  },
  {
   "cell_type": "markdown",
   "id": "atmospheric-playing",
   "metadata": {},
   "source": [
    "## Sanity check on the trained word embeddings\n",
    "<hr>"
   ]
  },
  {
   "cell_type": "code",
   "execution_count": 8,
   "id": "palestinian-plymouth",
   "metadata": {},
   "outputs": [
    {
     "name": "stdout",
     "output_type": "stream",
     "text": [
      "Terms most similar to \"flask\" \n",
      "\n",
      "[('django', 0.5641975998878479), ('server', 0.42534947395324707), ('app', 0.42500078678131104), ('webpy', 0.41933414340019226), ('web', 0.4132571816444397), ('pyramid', 0.40902072191238403), ('login', 0.39945316314697266), ('cherrypy', 0.3985061049461365), ('sqlalchemy', 0.3944116234779358), ('gae', 0.390514612197876)]\n"
     ]
    }
   ],
   "source": [
    "print('Terms most similar to \"flask\" \\n')\n",
    "print(w2v_model.wv.most_similar(\"flask\"))"
   ]
  },
  {
   "cell_type": "code",
   "execution_count": 9,
   "id": "comfortable-acquisition",
   "metadata": {},
   "outputs": [
    {
     "name": "stdout",
     "output_type": "stream",
     "text": [
      "Terms most similar to \"django\" \n",
      "\n",
      "[('flask', 0.5641975998878479), ('python', 0.48526614904403687), ('template', 0.454093337059021), ('web2py', 0.43154382705688477), ('pyramid', 0.4315212666988373), ('sqlalchemy', 0.4260035455226898), ('drf', 0.42291709780693054), ('app', 0.41364815831184387), ('wagtail', 0.4037037789821625), ('database', 0.39306747913360596)]\n"
     ]
    }
   ],
   "source": [
    "print('Terms most similar to \"django\" \\n')\n",
    "print(w2v_model.wv.most_similar(\"django\"))"
   ]
  },
  {
   "cell_type": "code",
   "execution_count": 10,
   "id": "fewer-danger",
   "metadata": {
    "scrolled": true
   },
   "outputs": [
    {
     "name": "stdout",
     "output_type": "stream",
     "text": [
      "Terms most similar to \"api\" \n",
      "\n",
      "[('apis', 0.5021178126335144), ('interface', 0.431951642036438), ('service', 0.3934616446495056), ('oauth', 0.392752468585968), ('appengine', 0.3828563094139099), ('app', 0.38075995445251465), ('script', 0.37688636779785156), ('endpoint', 0.3725874125957489), ('code', 0.371629536151886), ('flask', 0.3684621751308441)]\n"
     ]
    }
   ],
   "source": [
    "print('Terms most similar to \"api\" \\n')\n",
    "print(w2v_model.wv.most_similar(\"api\"))"
   ]
  },
  {
   "cell_type": "markdown",
   "id": "dedicated-roman",
   "metadata": {},
   "source": [
    "## Relevant questions retrieval model\n",
    "<hr>"
   ]
  },
  {
   "cell_type": "code",
   "execution_count": 11,
   "id": "laden-rugby",
   "metadata": {},
   "outputs": [],
   "source": [
    "import os\n",
    "import numpy as np\n",
    "import pandas as pd"
   ]
  },
  {
   "cell_type": "markdown",
   "id": "genetic-maximum",
   "metadata": {},
   "source": [
    "## Load data\n",
    "<hr>"
   ]
  },
  {
   "cell_type": "code",
   "execution_count": 12,
   "id": "premier-concert",
   "metadata": {},
   "outputs": [
    {
     "data": {
      "text/html": [
       "<div>\n",
       "<style scoped>\n",
       "    .dataframe tbody tr th:only-of-type {\n",
       "        vertical-align: middle;\n",
       "    }\n",
       "\n",
       "    .dataframe tbody tr th {\n",
       "        vertical-align: top;\n",
       "    }\n",
       "\n",
       "    .dataframe thead th {\n",
       "        text-align: right;\n",
       "    }\n",
       "</style>\n",
       "<table border=\"1\" class=\"dataframe\">\n",
       "  <thead>\n",
       "    <tr style=\"text-align: right;\">\n",
       "      <th></th>\n",
       "      <th>id</th>\n",
       "      <th>title</th>\n",
       "      <th>corpus</th>\n",
       "      <th>score</th>\n",
       "      <th>polarity</th>\n",
       "      <th>subjectivity</th>\n",
       "      <th>processed_title</th>\n",
       "    </tr>\n",
       "  </thead>\n",
       "  <tbody>\n",
       "    <tr>\n",
       "      <th>0</th>\n",
       "      <td>21454</td>\n",
       "      <td>Specifying a mySQL ENUM in a Django model</td>\n",
       "      <td>specifying mysql enum django model go specifyi...</td>\n",
       "      <td>0.044573</td>\n",
       "      <td>0.000000</td>\n",
       "      <td>0.000000</td>\n",
       "      <td>specifying mysql enum django model</td>\n",
       "    </tr>\n",
       "    <tr>\n",
       "      <th>1</th>\n",
       "      <td>22059</td>\n",
       "      <td>How do content discovery engines, like Zemanta...</td>\n",
       "      <td>content discovery engines like zemanta open ca...</td>\n",
       "      <td>0.002254</td>\n",
       "      <td>0.000000</td>\n",
       "      <td>0.000000</td>\n",
       "      <td>content discovery engines like zemanta open ca...</td>\n",
       "    </tr>\n",
       "    <tr>\n",
       "      <th>2</th>\n",
       "      <td>29856</td>\n",
       "      <td>Install Python to match directory layout in OS...</td>\n",
       "      <td>install python match directory layout os x 105...</td>\n",
       "      <td>-0.000657</td>\n",
       "      <td>0.000000</td>\n",
       "      <td>0.000000</td>\n",
       "      <td>install python match directory layout os x 105</td>\n",
       "    </tr>\n",
       "    <tr>\n",
       "      <th>3</th>\n",
       "      <td>35569</td>\n",
       "      <td>Why does Python's iter() on a mapping return i...</td>\n",
       "      <td>python iter mapping return iterkeys instead it...</td>\n",
       "      <td>0.001134</td>\n",
       "      <td>-0.200000</td>\n",
       "      <td>0.850000</td>\n",
       "      <td>python iter mapping return iterkeys instead it...</td>\n",
       "    </tr>\n",
       "    <tr>\n",
       "      <th>4</th>\n",
       "      <td>39960</td>\n",
       "      <td>Javascript equivalent of Python's locals()?</td>\n",
       "      <td>javascript equivalent python locals python one...</td>\n",
       "      <td>0.003821</td>\n",
       "      <td>0.000000</td>\n",
       "      <td>0.000000</td>\n",
       "      <td>javascript equivalent python locals</td>\n",
       "    </tr>\n",
       "    <tr>\n",
       "      <th>...</th>\n",
       "      <td>...</td>\n",
       "      <td>...</td>\n",
       "      <td>...</td>\n",
       "      <td>...</td>\n",
       "      <td>...</td>\n",
       "      <td>...</td>\n",
       "      <td>...</td>\n",
       "    </tr>\n",
       "    <tr>\n",
       "      <th>58882</th>\n",
       "      <td>65163096</td>\n",
       "      <td>Comparing values with __eq__ in Python</td>\n",
       "      <td>comparing values _ _ eq _ _ python good day ni...</td>\n",
       "      <td>-0.001329</td>\n",
       "      <td>-0.083333</td>\n",
       "      <td>0.283333</td>\n",
       "      <td>comparing values _ _ eq _ _ python</td>\n",
       "    </tr>\n",
       "    <tr>\n",
       "      <th>58883</th>\n",
       "      <td>65163335</td>\n",
       "      <td>How to get PYQT5 text box to be taken as an in...</td>\n",
       "      <td>get pyqt5 text box taken input sqlite trying c...</td>\n",
       "      <td>-0.001105</td>\n",
       "      <td>0.000000</td>\n",
       "      <td>0.000000</td>\n",
       "      <td>get pyqt5 text box taken input sqlite</td>\n",
       "    </tr>\n",
       "    <tr>\n",
       "      <th>58884</th>\n",
       "      <td>65163681</td>\n",
       "      <td>How to assign one argument to function and mak...</td>\n",
       "      <td>assign one argument function make list later q...</td>\n",
       "      <td>-0.001329</td>\n",
       "      <td>0.000000</td>\n",
       "      <td>0.000000</td>\n",
       "      <td>assign one argument function make list later</td>\n",
       "    </tr>\n",
       "    <tr>\n",
       "      <th>58885</th>\n",
       "      <td>65163947</td>\n",
       "      <td>Iterate over a list based on list based on a l...</td>\n",
       "      <td>iterate list based list based list steps want ...</td>\n",
       "      <td>0.000686</td>\n",
       "      <td>-0.055556</td>\n",
       "      <td>0.307937</td>\n",
       "      <td>iterate list based list based list steps</td>\n",
       "    </tr>\n",
       "    <tr>\n",
       "      <th>58886</th>\n",
       "      <td>65164562</td>\n",
       "      <td>django. Form creates blank objects for empty f...</td>\n",
       "      <td>django form creates blank objects empty fields...</td>\n",
       "      <td>-0.001329</td>\n",
       "      <td>-0.065816</td>\n",
       "      <td>0.193367</td>\n",
       "      <td>django form creates blank objects empty fields...</td>\n",
       "    </tr>\n",
       "  </tbody>\n",
       "</table>\n",
       "<p>58887 rows × 7 columns</p>\n",
       "</div>"
      ],
      "text/plain": [
       "             id                                              title  \\\n",
       "0         21454          Specifying a mySQL ENUM in a Django model   \n",
       "1         22059  How do content discovery engines, like Zemanta...   \n",
       "2         29856  Install Python to match directory layout in OS...   \n",
       "3         35569  Why does Python's iter() on a mapping return i...   \n",
       "4         39960        Javascript equivalent of Python's locals()?   \n",
       "...         ...                                                ...   \n",
       "58882  65163096             Comparing values with __eq__ in Python   \n",
       "58883  65163335  How to get PYQT5 text box to be taken as an in...   \n",
       "58884  65163681  How to assign one argument to function and mak...   \n",
       "58885  65163947  Iterate over a list based on list based on a l...   \n",
       "58886  65164562  django. Form creates blank objects for empty f...   \n",
       "\n",
       "                                                  corpus     score  polarity  \\\n",
       "0      specifying mysql enum django model go specifyi...  0.044573  0.000000   \n",
       "1      content discovery engines like zemanta open ca...  0.002254  0.000000   \n",
       "2      install python match directory layout os x 105... -0.000657  0.000000   \n",
       "3      python iter mapping return iterkeys instead it...  0.001134 -0.200000   \n",
       "4      javascript equivalent python locals python one...  0.003821  0.000000   \n",
       "...                                                  ...       ...       ...   \n",
       "58882  comparing values _ _ eq _ _ python good day ni... -0.001329 -0.083333   \n",
       "58883  get pyqt5 text box taken input sqlite trying c... -0.001105  0.000000   \n",
       "58884  assign one argument function make list later q... -0.001329  0.000000   \n",
       "58885  iterate list based list based list steps want ...  0.000686 -0.055556   \n",
       "58886  django form creates blank objects empty fields... -0.001329 -0.065816   \n",
       "\n",
       "       subjectivity                                    processed_title  \n",
       "0          0.000000                 specifying mysql enum django model  \n",
       "1          0.000000  content discovery engines like zemanta open ca...  \n",
       "2          0.000000     install python match directory layout os x 105  \n",
       "3          0.850000  python iter mapping return iterkeys instead it...  \n",
       "4          0.000000                javascript equivalent python locals  \n",
       "...             ...                                                ...  \n",
       "58882      0.283333                 comparing values _ _ eq _ _ python  \n",
       "58883      0.000000              get pyqt5 text box taken input sqlite  \n",
       "58884      0.000000       assign one argument function make list later  \n",
       "58885      0.307937           iterate list based list based list steps  \n",
       "58886      0.193367  django form creates blank objects empty fields...  \n",
       "\n",
       "[58887 rows x 7 columns]"
      ]
     },
     "execution_count": 12,
     "metadata": {},
     "output_type": "execute_result"
    }
   ],
   "source": [
    "data = pd.read_csv('data/processed_data_model1.csv')\n",
    "data"
   ]
  },
  {
   "cell_type": "code",
   "execution_count": 13,
   "id": "magnetic-information",
   "metadata": {},
   "outputs": [
    {
     "name": "stdout",
     "output_type": "stream",
     "text": [
      "['i', 'me', 'my', 'myself', 'we', 'our', 'ours', 'ourselves', 'you', \"you're\", \"you've\", \"you'll\", \"you'd\", 'your', 'yours', 'yourself', 'yourselves', 'he', 'him', 'his', 'himself', 'she', \"she's\", 'her', 'hers', 'herself', 'it', \"it's\", 'its', 'itself', 'they', 'them', 'their', 'theirs', 'themselves', 'what', 'which', 'who', 'whom', 'this', 'that', \"that'll\", 'these', 'those', 'am', 'is', 'are', 'was', 'were', 'be', 'been', 'being', 'have', 'has', 'had', 'having', 'do', 'does', 'did', 'doing', 'a', 'an', 'the', 'and', 'but', 'if', 'or', 'because', 'as', 'until', 'while', 'of', 'at', 'by', 'for', 'with', 'about', 'against', 'between', 'into', 'through', 'during', 'before', 'after', 'above', 'below', 'to', 'from', 'up', 'down', 'in', 'out', 'on', 'off', 'over', 'under', 'again', 'further', 'then', 'once', 'here', 'there', 'when', 'where', 'why', 'how', 'all', 'any', 'both', 'each', 'few', 'more', 'most', 'other', 'some', 'such', 'no', 'nor', 'not', 'only', 'own', 'same', 'so', 'than', 'too', 'very', 's', 't', 'can', 'will', 'just', 'don', \"don't\", 'should', \"should've\", 'now', 'd', 'll', 'm', 'o', 're', 've', 'y', 'ain', 'aren', \"aren't\", 'couldn', \"couldn't\", 'didn', \"didn't\", 'doesn', \"doesn't\", 'hadn', \"hadn't\", 'hasn', \"hasn't\", 'haven', \"haven't\", 'isn', \"isn't\", 'ma', 'mightn', \"mightn't\", 'mustn', \"mustn't\", 'needn', \"needn't\", 'shan', \"shan't\", 'shouldn', \"shouldn't\", 'wasn', \"wasn't\", 'weren', \"weren't\", 'won', \"won't\", 'wouldn', \"wouldn't\"]\n"
     ]
    },
    {
     "name": "stderr",
     "output_type": "stream",
     "text": [
      "[nltk_data] Downloading package stopwords to\n",
      "[nltk_data]     C:\\Users\\Bhavana\\AppData\\Roaming\\nltk_data...\n",
      "[nltk_data]   Package stopwords is already up-to-date!\n"
     ]
    }
   ],
   "source": [
    "import re\n",
    "import nltk\n",
    "import inflect\n",
    "from nltk.corpus import stopwords\n",
    "\n",
    "#process text\n",
    "\n",
    "import spacy\n",
    "en = spacy.load('en_core_web_sm')\n",
    "\n",
    "import nltk\n",
    "nltk.download('stopwords')\n",
    "\n",
    "#tokenizer\n",
    "\n",
    "def tokenize(text):\n",
    "    tokens = en.tokenizer(text)\n",
    "    return [token.text.lower() for token in tokens if not token.is_space]\n",
    "\n",
    "#remove punctuations\n",
    "\n",
    "def remove_punctuation(words):\n",
    "    new_words = []\n",
    "    for word in words:\n",
    "        new_word = re.sub(r'[^\\w\\s]', '', word)\n",
    "        if new_word != '':\n",
    "            new_words.append(new_word)\n",
    "    return new_words \n",
    "\n",
    "#remove stop words\n",
    "\n",
    "def remove_stopwords(words):\n",
    "    new_words = []\n",
    "    for word in words:\n",
    "        if word not in stopwords.words('english'):\n",
    "            new_words.append(word)\n",
    "    return new_words\n",
    "\n",
    "def normalize(words):\n",
    "    words = remove_punctuation(words)\n",
    "    words = remove_stopwords(words)\n",
    "    return words\n",
    "\n",
    "def process_text(text):\n",
    "    return ' '.join(normalize(tokenize(text)))\n",
    "\n",
    "print(stopwords.words('english'))"
   ]
  },
  {
   "cell_type": "markdown",
   "id": "finnish-cassette",
   "metadata": {},
   "source": [
    "## Import saved word embeddings\n",
    "<hr>"
   ]
  },
  {
   "cell_type": "code",
   "execution_count": 14,
   "id": "offshore-consensus",
   "metadata": {},
   "outputs": [
    {
     "name": "stdout",
     "output_type": "stream",
     "text": [
      "vocab size 74743\n"
     ]
    }
   ],
   "source": [
    "#getting the saved word embeddings\n",
    "\n",
    "from gensim.models import Word2Vec\n",
    "\n",
    "w2v_model = Word2Vec.load('models/related_questions_model.bin')\n",
    "words = w2v_model.wv.vocab.keys()\n",
    "vocab_size = len(words)\n",
    "\n",
    "print(\"vocab size\",vocab_size)"
   ]
  },
  {
   "cell_type": "markdown",
   "id": "available-adult",
   "metadata": {},
   "source": [
    "## Calculate sentence embeddings\n",
    "<hr>"
   ]
  },
  {
   "cell_type": "code",
   "execution_count": 15,
   "id": "concrete-functionality",
   "metadata": {},
   "outputs": [],
   "source": [
    "#word to numerical vector using the trained word embeddings\n",
    "\n",
    "def question_to_vec(question, embeddings, dim = 300):\n",
    "    question_embedding = np.zeros(dim) #initialize with zeros and dim = 300\n",
    "    valid_words = 0\n",
    "    for word in str(question).split(' '):\n",
    "        if embeddings.wv.__contains__(word):\n",
    "            valid_words+=1\n",
    "            question_embedding += embeddings.wv.__getitem__(word)\n",
    "        if valid_words>0:\n",
    "            return question_embedding/valid_words\n",
    "        else:\n",
    "            return question_embedding"
   ]
  },
  {
   "cell_type": "code",
   "execution_count": 16,
   "id": "vocal-detail",
   "metadata": {},
   "outputs": [
    {
     "name": "stdout",
     "output_type": "stream",
     "text": [
      "Word2Vec(vocab=74743, size=300, alpha=0.03)\n"
     ]
    }
   ],
   "source": [
    "#converting all the question titles to vectors and saving them\n",
    "\n",
    "title_embeddings = []\n",
    "\n",
    "for title in data.processed_title:\n",
    "    title_embeddings.append(question_to_vec(question = title, embeddings = w2v_model))\n",
    "    \n",
    "title_embeddings = np.array(title_embeddings)\n",
    "embeddings = pd.DataFrame(data = title_embeddings)\n",
    "embeddings[0:15000].to_csv('models/title_embeddings1.csv', index=False)\n",
    "embeddings[15000:30000].to_csv('models/title_embeddings2.csv', index=False)\n",
    "embeddings[30000:45000].to_csv('models/title_embeddings3.csv', index=False)\n",
    "embeddings[45000:].to_csv('models/title_embeddings4.csv', index=False)\n",
    "\n",
    "print(w2v_model)"
   ]
  },
  {
   "cell_type": "markdown",
   "id": "compliant-relevance",
   "metadata": {},
   "source": [
    "## Similarity Score Calculation and Ranking the Questions\n",
    "<hr>"
   ]
  },
  {
   "cell_type": "code",
   "execution_count": 17,
   "id": "iraqi-advisory",
   "metadata": {
    "scrolled": true
   },
   "outputs": [
    {
     "data": {
      "text/html": [
       "<h3>Results:</h3><p style=\"font-family:verdana; font-size:110%;\"> question id : 48641350<br>similarity score : 0.7999605608351992<br> How to <b>merge</b> <b>two</b> <b>lists</b> into a <b>list</b> of multiple lists?</p><hr><p style=\"font-family:verdana; font-size:110%;\"> question id : 46362972<br>similarity score : 0.785947125994178<br> <b>Merge</b> <b>list</b> of <b>lists</b> in <b>python</b> 3</p><hr><p style=\"font-family:verdana; font-size:110%;\"> question id : 1158128<br>similarity score : 0.750188953132557<br> <b>Merge</b> sorted <b>lists</b> in <b>python</b></p><hr><p style=\"font-family:verdana; font-size:110%;\"> question id : 44476206<br>similarity score : 0.7499202563121361<br> how to <b>merge</b> <b>two</b> <b>list</b> having dict</p><hr><p style=\"font-family:verdana; font-size:110%;\"> question id : 58971955<br>similarity score : 0.709933691153157<br> How to <b>merge</b> <b>two</b> dataframe?</p><hr><p style=\"font-family:verdana; font-size:110%;\"> question id : 35526224<br>similarity score : 0.701170256312136<br> How to <b>merge</b> these <b>two</b> Jsons?</p><hr><p style=\"font-family:verdana; font-size:110%;\"> question id : 49734759<br>similarity score : 0.6749874305172413<br> <b>Merge</b> <b>two</b> <b>list</b> into a <b>list</b> of dictionaries with multiple keys in <b>python</b></p><hr><p style=\"font-family:verdana; font-size:110%;\"> question id : 34761978<br>similarity score : 0.6600680395633676<br> <b>Merge</b> 3 <b>lists</b> into 1 <b>list</b></p><hr><p style=\"font-family:verdana; font-size:110%;\"> question id : 30620323<br>similarity score : 0.6600411698813256<br> <b>Merge</b> <b>two</b> files in <b>Python</b> PANDAS?</p><hr><p style=\"font-family:verdana; font-size:110%;\"> question id : 55397854<br>similarity score : 0.659947125994178<br> How to <b>merge</b> <b>two</b> IO Streams in Python?</p><hr><p style=\"font-family:verdana; font-size:110%;\"> question id : 48744137<br>similarity score : 0.659920256312136<br> <b>Merge</b> <b>lists</b> while showing zeros in <b>python</b></p><hr><p style=\"font-family:verdana; font-size:110%;\"> question id : 58967559<br>similarity score : 0.659920256312136<br> how to <b>merge</b> <b>two</b> dimensional <b>list</b> with the same len</p><hr><p style=\"font-family:verdana; font-size:110%;\"> question id : 44155727<br>similarity score : 0.6551996213915011<br> <b>Merge</b> <b>two</b> <b>lists</b> of intervals with priority for one <b>list</b></p><hr><p style=\"font-family:verdana; font-size:110%;\"> question id : 57508214<br>similarity score : 0.6211971259941781<br> How to <b>merge</b> elements from multiple <b>lists</b> with same ID in Python?</p><hr><p style=\"font-family:verdana; font-size:110%;\"> question id : 36683756<br>similarity score : 0.6199605608351991<br> <b>Merge</b> sort a <b>list</b> of words</p><hr><p style=\"font-family:verdana; font-size:110%;\"> question id : 57354626<br>similarity score : 0.6129559705978503<br> How to <b>merge</b> with <b>two</b> objects into a tuple with the <b>two</b> elements?</p><hr><p style=\"font-family:verdana; font-size:110%;\"> question id : 58220001<br>similarity score : 0.6076420244864904<br> How to <b>merge</b> dataframe with semicolon in python?</p><hr><p style=\"font-family:verdana; font-size:110%;\"> question id : 48926974<br>similarity score : 0.5999471259941781<br> <b>Merge</b> <b>list</b> of tuples to a dictionary</p><hr><p style=\"font-family:verdana; font-size:110%;\"> question id : 52502495<br>similarity score : 0.5999471259941781<br> How do you <b>merge</b> <b>two</b> unequal input/list in Python3</p><hr><p style=\"font-family:verdana; font-size:110%;\"> question id : 57531604<br>similarity score : 0.5999336911531571<br> <b>Merge</b> <b>two</b> columns in Pandas</p><hr><p style=\"font-family:verdana; font-size:110%;\"> question id : 52855568<br>similarity score : 0.5688979768674427<br> How to <b>merge</b> <b>two</b> <b>lists</b> of different lengths as a Pandas dataframe?</p><hr><p style=\"font-family:verdana; font-size:110%;\"> question id : 47667379<br>similarity score : 0.565545256312136<br> how to <b>merge</b> <b>two</b> html files through tornado</p><hr><p style=\"font-family:verdana; font-size:110%;\"> question id : 58802412<br>similarity score : 0.5620899831370352<br> how to <b>merge</b> <b>two</b> dictionaries with different keys that are inside same list?</p><hr><p style=\"font-family:verdana; font-size:110%;\"> question id : 58259762<br>similarity score : 0.5571302876600983<br> How do you <b>merge</b> a <b>two</b> dimensional and a three dimensional <b>list</b> together?</p><hr><p style=\"font-family:verdana; font-size:110%;\"> question id : 47714900<br>similarity score : 0.5570765482960142<br> How to <b>merge</b> <b>two</b> different pandas data frame in <b>python</b></p><hr><p style=\"font-family:verdana; font-size:110%;\"> question id : 59513995<br>similarity score : 0.5479739956762202<br> <b>Merge</b> <b>two</b> sorted linked <b>lists</b> - <b>Python</b> implementation - wrong/incomplete output</p><hr><p style=\"font-family:verdana; font-size:110%;\"> question id : 52480347<br>similarity score : 0.5435722939296909<br> <b>Merge</b> dataframes <b>Python</b> without duplications</p><hr><p style=\"font-family:verdana; font-size:110%;\"> question id : 52879192<br>similarity score : 0.539933691153157<br> <b>Merge</b> multiple JSON files (more than two)</p><hr><p style=\"font-family:verdana; font-size:110%;\"> question id : 60242599<br>similarity score : 0.539920256312136<br> <b>Merge</b> dataframes within an ordered <b>list</b></p><hr><p style=\"font-family:verdana; font-size:110%;\"> question id : 42265239<br>similarity score : 0.5250143001992833<br> <b>Merge</b> <b>two</b> <b>list</b> as values inside dictionary based <b>on</b> key</p><hr><p style=\"font-family:verdana; font-size:110%;\"> question id : 55770240<br>similarity score : 0.5199336911531571<br> How to <b>merge</b> <b>two</b> raw query in Django 2?</p><hr><p style=\"font-family:verdana; font-size:110%;\"> question id : 46625843<br>similarity score : 0.5117518729713388<br> <b>merge</b> strips timestamp</p><hr><p style=\"font-family:verdana; font-size:110%;\"> question id : 38978214<br>similarity score : 0.5082372439222271<br> <b>Merge</b> a <b>list</b> of dataframes to create one dataframe</p><hr><p style=\"font-family:verdana; font-size:110%;\"> question id : 38745759<br>similarity score : 0.5079336911531571<br> How to merge/join <b>two</b> resultset/table in django?</p><hr><p style=\"font-family:verdana; font-size:110%;\"> question id : 45532699<br>similarity score : 0.5066540971839079<br> <b>Merge</b> <b>two</b> data frames in <b>Python</b> <b>on</b> column with non-unique values</p><hr><p style=\"font-family:verdana; font-size:110%;\"> question id : 59522083<br>similarity score : 0.5015035896454694<br> How to <b>merge</b> <b>Python</b> and Kivy to work as one project</p><hr><p style=\"font-family:verdana; font-size:110%;\"> question id : 48832687<br>similarity score : 0.5000143001992834<br> <b>Merge</b> <b>two</b> values into one cell in dataframe</p><hr><p style=\"font-family:verdana; font-size:110%;\"> question id : 44484520<br>similarity score : 0.4999739956762202<br> <b>merge</b> <b>two</b> dataframes without repeats pandas</p><hr><p style=\"font-family:verdana; font-size:110%;\"> question id : 60115110<br>similarity score : 0.4999336911531571<br> <b>Merge</b> multiple CSV rows into 1 in <b>Python</b></p><hr><p style=\"font-family:verdana; font-size:110%;\"> question id : 44109813<br>similarity score : 0.499920256312136<br> <b>Merge</b> <b>two</b> <b>lists</b> and write to a text file in CONLL data format</p><hr><p style=\"font-family:verdana; font-size:110%;\"> question id : 59223852<br>similarity score : 0.499920256312136<br> <b>Merge</b> And overwrite common columns in <b>two</b> DataFrames</p><hr><p style=\"font-family:verdana; font-size:110%;\"> question id : 35785109<br>similarity score : 0.4929954167838481<br> How to <b>merge</b> <b>two</b> pandas dataframe in parallel (multithreading or multiprocessing)</p><hr><p style=\"font-family:verdana; font-size:110%;\"> question id : 56088692<br>similarity score : 0.4913622625817285<br> How to <b>merge</b> values of dictionaries with same key into one from a <b>list</b> of dictionaries?</p><hr><p style=\"font-family:verdana; font-size:110%;\"> question id : 22306340<br>similarity score : 0.48592025631213603<br> <b>merge</b> values of same key in a <b>list</b> of dictionaries , and compare to another <b>list</b> of dictionaries in python3</p><hr><p style=\"font-family:verdana; font-size:110%;\"> question id : 60330020<br>similarity score : 0.48319387924093127<br> <b>Merge</b> <b>two</b> Pandas data frames <b>on</b> overlapping segments</p><hr><p style=\"font-family:verdana; font-size:110%;\"> question id : 52426495<br>similarity score : 0.47992025631213603<br> How to <b>merge</b> DataFrame with Multi-Index</p><hr><p style=\"font-family:verdana; font-size:110%;\"> question id : 60025252<br>similarity score : 0.47992025631213603<br> <b>Merge</b> only if <b>two</b> consecutives lines startwith at <b>python</b> and write the rest of text normally</p><hr><p style=\"font-family:verdana; font-size:110%;\"> question id : 59863801<br>similarity score : 0.4772416848835645<br> How do <b>I</b> <b>merge</b> <b>two</b> dataframes using a substring match in pandas?</p><hr><p style=\"font-family:verdana; font-size:110%;\"> question id : 43399506<br>similarity score : 0.4749471259941781<br> <b>Merge</b> DataFrames with ordering criteria</p><hr><p style=\"font-family:verdana; font-size:110%;\"> question id : 58696775<br>similarity score : 0.47142943678683374<br> How to <b>merge</b> <b>two</b> pandas DataFrames and keep repeated values?</p><hr><p style=\"font-family:verdana; font-size:110%;\"> question id : 57041468<br>similarity score : 0.4714160019458127<br> <b>Merge</b> 2 <b>lists</b> containing obejcts with matching ids</p><hr><p style=\"font-family:verdana; font-size:110%;\"> question id : 29156345<br>similarity score : 0.4713756974227495<br> How to <b>merge</b> multiple CSV files using <b>Python</b> Pandas</p><hr><p style=\"font-family:verdana; font-size:110%;\"> question id : 54697379<br>similarity score : 0.4713488277407074<br> How to <b>merge</b> <b>two</b> numpy array's cells containing strings?</p><hr><p style=\"font-family:verdana; font-size:110%;\"> question id : 60013509<br>similarity score : 0.4713488277407074<br> How to <b>merge</b> <b>two</b> pandas DataFrames, but without shared elements</p><hr><p style=\"font-family:verdana; font-size:110%;\"> question id : 17245035<br>similarity score : 0.4668462751209135<br> How can <b>I</b> <b>merge</b> together sentence objects?</p><hr><p style=\"font-family:verdana; font-size:110%;\"> question id : 50297176<br>similarity score : 0.46562586535826234<br> <b>Merge</b> large images <b>on</b> disk</p><hr><p style=\"font-family:verdana; font-size:110%;\"> question id : 54873983<br>similarity score : 0.4627999305172413<br> <b>merge</b> consecutive matching rows</p><hr><p style=\"font-family:verdana; font-size:110%;\"> question id : 29370770<br>similarity score : 0.459920256312136<br> How to <b>merge</b> .csv files to do a matrix</p><hr><p style=\"font-family:verdana; font-size:110%;\"> question id : 48123619<br>similarity score : 0.459920256312136<br> <b>Merge</b> <b>two</b> CreateView to show there forms in DetailView of post model</p><hr><p style=\"font-family:verdana; font-size:110%;\"> question id : 20278996<br>similarity score : 0.4524874305172413<br> <b>Merge</b> 2 dictionaries in <b>Python</b> without deleting first dictionary</p><hr><p style=\"font-family:verdana; font-size:110%;\"> question id : 51025021<br>similarity score : 0.4524471259941781<br> <b>Merge</b> several dataframes together</p><hr><p style=\"font-family:verdana; font-size:110%;\"> question id : 45212537<br>similarity score : 0.4500814744043886<br> <b>Merge</b> csv files using <b>python</b> without repeating header</p><hr><p style=\"font-family:verdana; font-size:110%;\"> question id : 52425332<br>similarity score : 0.4499471259941781<br> <b>Merge</b> pandas groupBy objects</p><hr><p style=\"font-family:verdana; font-size:110%;\"> question id : 52455883<br>similarity score : 0.4499471259941781<br> <b>Merge</b> changes Pandas types</p><hr><p style=\"font-family:verdana; font-size:110%;\"> question id : 52563359<br>similarity score : 0.44993369115315707<br> <b>merge</b> columns with same header name</p><hr><p style=\"font-family:verdana; font-size:110%;\"> question id : 42741147<br>similarity score : 0.44943369115315707<br> How can <b>I</b> <b>merge</b> the values from <b>two</b> pandas dataframe which as same row and column indexes/value?</p><hr><p style=\"font-family:verdana; font-size:110%;\"> question id : 57015170<br>similarity score : 0.42890591337537926<br> How to <b>merge</b> and split again thousands of text files?</p><hr><p style=\"font-family:verdana; font-size:110%;\"> question id : 26230887<br>similarity score : 0.42793369115315705<br> how to <b>merge</b> data present in text files without changing the format using python?</p><hr><p style=\"font-family:verdana; font-size:110%;\"> question id : 46971307<br>similarity score : 0.42793369115315705<br> How to <b>merge</b> <b>two</b> pandas dataframe with left join when both dataframe contains duplicate keys?</p><hr><p style=\"font-family:verdana; font-size:110%;\"> question id : 57685558<br>similarity score : 0.4266980340899138<br> <b>Merge</b> dataframe rows when values are NaN</p><hr><p style=\"font-family:verdana; font-size:110%;\"> question id : 36297584<br>similarity score : 0.42660035781982375<br> How to <b>merge</b> multiple rows into single cell in csv separated by comma using <b>Python</b></p><hr><p style=\"font-family:verdana; font-size:110%;\"> question id : 22662996<br>similarity score : 0.4252561273376622<br> <b>Merge</b> numpy arrays returned from loop</p><hr><p style=\"font-family:verdana; font-size:110%;\"> question id : 20702716<br>similarity score : 0.42000086535826237<br> Merge/Join/Append <b>two</b> Pandas DataFrames with MultiIndex columns by both index and cols</p><hr><p style=\"font-family:verdana; font-size:110%;\"> question id : 41865577<br>similarity score : 0.4199739956762202<br> <b>Merge</b> rows based <b>on</b> range of variable</p><hr><p style=\"font-family:verdana; font-size:110%;\"> question id : 44568806<br>similarity score : 0.4199471259941781<br> <b>merge</b> dataframes by date after persision reduced</p><hr><p style=\"font-family:verdana; font-size:110%;\"> question id : 39250242<br>similarity score : 0.41992025631213603<br> How to <b>merge</b> and delete nodes in networkx graph?</p><hr><p style=\"font-family:verdana; font-size:110%;\"> question id : 47906209<br>similarity score : 0.41992025631213603<br> <b>Merge</b> <b>two</b> plots into one with logarithmic scale - different data frames pandas</p><hr><p style=\"font-family:verdana; font-size:110%;\"> question id : 49756995<br>similarity score : 0.41992025631213603<br> <b>Merge</b> array of Matrixs into one Matrix</p><hr><p style=\"font-family:verdana; font-size:110%;\"> question id : 50480244<br>similarity score : 0.41318692297880266<br> <b>Merge</b> rows with columns in different format pandas</p><hr><p style=\"font-family:verdana; font-size:110%;\"> question id : 47842009<br>similarity score : 0.4056748465494849<br> <b>merge</b> data from multiple data frames <b>on</b> multiple conditions</p><hr><p style=\"font-family:verdana; font-size:110%;\"> question id : 55160906<br>similarity score : 0.40444712599417804<br> How to <b>merge</b> multidimensional dataframe and series of different length?</p><hr><p style=\"font-family:verdana; font-size:110%;\"> question id : 60180275<br>similarity score : 0.4016614117084638<br> <b>Merge</b> specific column in multiple dataframe with different length</p><hr><p style=\"font-family:verdana; font-size:110%;\"> question id : 56497509<br>similarity score : 0.4014971793890591<br> <b>Merge</b> regression results back to original dataframe</p><hr><p style=\"font-family:verdana; font-size:110%;\"> question id : 24760910<br>similarity score : 0.40000086535826235<br> How <b>merge</b> text in a tkinter label with different colors</p><hr><p style=\"font-family:verdana; font-size:110%;\"> question id : 43552785<br>similarity score : 0.40000086535826235<br> <b>Merge</b> table <b>on</b> either of the 2 columns in pandas</p><hr><p style=\"font-family:verdana; font-size:110%;\"> question id : 54049458<br>similarity score : 0.3999336911531571<br> <b>Merge</b> multiple dataframes by multiple id columns in Pandas</p><hr><p style=\"font-family:verdana; font-size:110%;\"> question id : 54601443<br>similarity score : 0.39988057377245345<br> How do <b>I</b> <b>merge</b> data working with different excel files in Matplotlib?</p><hr><p style=\"font-family:verdana; font-size:110%;\"> question id : 54088992<br>similarity score : 0.39222794861982835<br> How can <b>I</b> <b>merge</b> 2 dataframes based <b>on</b> a <b>list</b> of tuples, where every tuple holds the relevant key from every dataframe?</p><hr><p style=\"font-family:verdana; font-size:110%;\"> question id : 49438025<br>similarity score : 0.3856614117084638<br> <b>Merge</b> rows of pandas data frame by grouping a column</p><hr><p style=\"font-family:verdana; font-size:110%;\"> question id : 56876195<br>similarity score : 0.3856614117084638<br> How to <b>merge</b> columns and duplicate row values to match in pandas</p><hr><p style=\"font-family:verdana; font-size:110%;\"> question id : 16467844<br>similarity score : 0.3856479768674428<br> How to <b>merge</b> PDFs with only PHP and keep internal and external links</p><hr><p style=\"font-family:verdana; font-size:110%;\"> question id : 43794802<br>similarity score : 0.3856345420264217<br> how to <b>Merge</b> remote-tracking branch 'caffe/master' into HEAD ?</p><hr><p style=\"font-family:verdana; font-size:110%;\"> question id : 43948049<br>similarity score : 0.38208998313703524<br> <b>Merge</b> multiple csv files with same name in 10 different subdirectory</p><hr><p style=\"font-family:verdana; font-size:110%;\"> question id : 48359259<br>similarity score : 0.3749336911531571<br> How to <b>merge</b> pandas dataframe and filter duplicate content in different column?</p><hr><p style=\"font-family:verdana; font-size:110%;\"> question id : 54591008<br>similarity score : 0.374906821471115<br> <b>Merge</b> tables with SQL-like join with filter (Between) in left join</p><hr><p style=\"font-family:verdana; font-size:110%;\"> question id : 14008075<br>similarity score : 0.3721272275018658<br> How to <b>merge</b> many to many relations from one db session to another with SQLAlchemy?</p><hr><p style=\"font-family:verdana; font-size:110%;\"> question id : 55206146<br>similarity score : 0.36664066234288684<br> <b>Merge</b> Pandas Dataframe with non-unique index with 1D Numpy array</p><hr><p style=\"font-family:verdana; font-size:110%;\"> question id : 58678560<br>similarity score : 0.3658433332352129<br> How to <b>merge</b> similar data into a custom field using serializers in django-rest-framework?</p><hr><p style=\"font-family:verdana; font-size:110%;\"> question id : 50727548<br>similarity score : 0.35477739916927886<br> How to <b>merge</b> multiple dataframes with the same number of columns into one dataframe that shows all of the column headers per individual frame? -Pandas</p><hr><p style=\"font-family:verdana; font-size:110%;\"> question id : 58276538<br>similarity score : 0.3545463199037169<br> How to merge/join empty dataframe with another filled dataframe by equal indices and column names?</p><hr>"
      ],
      "text/plain": [
       "<IPython.core.display.HTML object>"
      ]
     },
     "metadata": {},
     "output_type": "display_data"
    }
   ],
   "source": [
    "import pandas as pd\n",
    "import numpy as np\n",
    "from sklearn.metrics.pairwise import cosine_similarity\n",
    "from IPython.display import HTML\n",
    "\n",
    "# retrieving the save title embeddings\n",
    "\n",
    "em1 = pd.read_csv('models/title_embeddings1.csv')\n",
    "em2 = pd.read_csv('models/title_embeddings2.csv')\n",
    "em3 = pd.read_csv('models/title_embeddings3.csv')\n",
    "em4 = pd.read_csv('models/title_embeddings4.csv')\n",
    "\n",
    "em = em1.append([em2, em3, em4])\n",
    "\n",
    "title_embeddings = np.array(em)\n",
    "\n",
    "# process the query\n",
    "\n",
    "query = 'merge two lists in python'\n",
    "processed_query = process_text(query)\n",
    "\n",
    "results_returned = 100 # number of results to be returned\n",
    "\n",
    "query_vect = np.array([question_to_vec(processed_query, w2v_model)]) # Vectorize the user query\n",
    "\n",
    "cosine_similarities = pd.Series(cosine_similarity(query_vect, title_embeddings)[0]) # calculate the cosine similarities\n",
    "\n",
    "relevant_questions = []\n",
    "max_cosine_score = max(cosine_similarities)\n",
    "\n",
    "cos_weight = 30\n",
    "freq_weight = 60\n",
    "ans_weight = 6\n",
    "polar_weight = 2\n",
    "subj_weight = 2\n",
    "\n",
    "#score calculation\n",
    "\n",
    "for index, cosine_score in cosine_similarities.nlargest(results_returned).iteritems():\n",
    "    \n",
    "    freq_score = 0\n",
    "    word_count = 0\n",
    "    score = 0\n",
    "    \n",
    "    for word in data.processed_title[index].split():\n",
    "        if word.lower() in processed_query:\n",
    "            freq_score+=1\n",
    "        word_count+=1\n",
    "        \n",
    "    freq_score/=word_count\n",
    "    \n",
    "    score =  (cos_weight*(cosine_score/max_cosine_score)+freq_weight*freq_score+ans_weight*data.score[index]+polar_weight*data.polarity[index]+subj_weight*data.subjectivity[index])/100\n",
    "        \n",
    "    relevant_questions.append((index, data.id[index], score))\n",
    "    \n",
    "relevant_questions.sort(key = lambda x : x[2], reverse = True)\n",
    "\n",
    "# display results\n",
    "\n",
    "output = ''\n",
    "\n",
    "for index, qid, score in relevant_questions:\n",
    "    output += '<p style=\"font-family:verdana; font-size:110%;\"> '\n",
    "    output += 'question id : '+str(qid)+'<br>similarity score : ' + str(score) + '<br>'\n",
    "    for word in data.title[index].split():\n",
    "        if word.lower() in processed_query:\n",
    "            output += \" <b>\"+str(word)+\"</b>\"\n",
    "        else:\n",
    "            output += \" \"+str(word)\n",
    "    output += \"</p><hr>\"\n",
    "\n",
    "output = '<h3>Results:</h3>'+output\n",
    "display(HTML(output))\n",
    "\n",
    "# save the retrieved questions\n",
    "\n",
    "df = pd.DataFrame(relevant_questions).iloc[:,1:]\n",
    "df.columns = ['id','score']\n",
    "\n",
    "df.to_csv('data/relevant_questions.csv', index=False)"
   ]
  },
  {
   "cell_type": "code",
   "execution_count": 18,
   "id": "trying-rover",
   "metadata": {},
   "outputs": [
    {
     "data": {
      "text/html": [
       "<div>\n",
       "<style scoped>\n",
       "    .dataframe tbody tr th:only-of-type {\n",
       "        vertical-align: middle;\n",
       "    }\n",
       "\n",
       "    .dataframe tbody tr th {\n",
       "        vertical-align: top;\n",
       "    }\n",
       "\n",
       "    .dataframe thead th {\n",
       "        text-align: right;\n",
       "    }\n",
       "</style>\n",
       "<table border=\"1\" class=\"dataframe\">\n",
       "  <thead>\n",
       "    <tr style=\"text-align: right;\">\n",
       "      <th></th>\n",
       "      <th>id</th>\n",
       "      <th>score</th>\n",
       "    </tr>\n",
       "  </thead>\n",
       "  <tbody>\n",
       "    <tr>\n",
       "      <th>0</th>\n",
       "      <td>48641350</td>\n",
       "      <td>0.799961</td>\n",
       "    </tr>\n",
       "    <tr>\n",
       "      <th>1</th>\n",
       "      <td>46362972</td>\n",
       "      <td>0.785947</td>\n",
       "    </tr>\n",
       "    <tr>\n",
       "      <th>2</th>\n",
       "      <td>1158128</td>\n",
       "      <td>0.750189</td>\n",
       "    </tr>\n",
       "    <tr>\n",
       "      <th>3</th>\n",
       "      <td>44476206</td>\n",
       "      <td>0.749920</td>\n",
       "    </tr>\n",
       "    <tr>\n",
       "      <th>4</th>\n",
       "      <td>58971955</td>\n",
       "      <td>0.709934</td>\n",
       "    </tr>\n",
       "    <tr>\n",
       "      <th>5</th>\n",
       "      <td>35526224</td>\n",
       "      <td>0.701170</td>\n",
       "    </tr>\n",
       "    <tr>\n",
       "      <th>6</th>\n",
       "      <td>49734759</td>\n",
       "      <td>0.674987</td>\n",
       "    </tr>\n",
       "    <tr>\n",
       "      <th>7</th>\n",
       "      <td>34761978</td>\n",
       "      <td>0.660068</td>\n",
       "    </tr>\n",
       "    <tr>\n",
       "      <th>8</th>\n",
       "      <td>30620323</td>\n",
       "      <td>0.660041</td>\n",
       "    </tr>\n",
       "    <tr>\n",
       "      <th>9</th>\n",
       "      <td>55397854</td>\n",
       "      <td>0.659947</td>\n",
       "    </tr>\n",
       "  </tbody>\n",
       "</table>\n",
       "</div>"
      ],
      "text/plain": [
       "         id     score\n",
       "0  48641350  0.799961\n",
       "1  46362972  0.785947\n",
       "2   1158128  0.750189\n",
       "3  44476206  0.749920\n",
       "4  58971955  0.709934\n",
       "5  35526224  0.701170\n",
       "6  49734759  0.674987\n",
       "7  34761978  0.660068\n",
       "8  30620323  0.660041\n",
       "9  55397854  0.659947"
      ]
     },
     "execution_count": 18,
     "metadata": {},
     "output_type": "execute_result"
    }
   ],
   "source": [
    "qdf = pd.read_csv('data/relevant_questions.csv')\n",
    "qdf.head(10)"
   ]
  },
  {
   "cell_type": "code",
   "execution_count": 19,
   "id": "sunrise-lesson",
   "metadata": {},
   "outputs": [
    {
     "data": {
      "text/plain": [
       "(100, 2)"
      ]
     },
     "execution_count": 19,
     "metadata": {},
     "output_type": "execute_result"
    }
   ],
   "source": [
    "qdf.shape"
   ]
  }
 ],
 "metadata": {
  "kernelspec": {
   "display_name": "Python 3",
   "language": "python",
   "name": "python3"
  },
  "language_info": {
   "codemirror_mode": {
    "name": "ipython",
    "version": 3
   },
   "file_extension": ".py",
   "mimetype": "text/x-python",
   "name": "python",
   "nbconvert_exporter": "python",
   "pygments_lexer": "ipython3",
   "version": "3.8.5"
  }
 },
 "nbformat": 4,
 "nbformat_minor": 5
}